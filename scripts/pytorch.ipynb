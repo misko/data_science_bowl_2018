{
 "cells": [
  {
   "cell_type": "code",
   "execution_count": 194,
   "metadata": {
    "collapsed": true
   },
   "outputs": [],
   "source": [
    "from __future__ import division\n",
    "import os\n",
    "import torch\n",
    "import pandas as pd\n",
    "from skimage import io, transform\n",
    "import numpy as np\n",
    "import matplotlib.pyplot as plt\n",
    "from torch.utils.data import Dataset, DataLoader\n",
    "from torch.utils.data.sampler import SubsetRandomSampler\n",
    "from torchvision import transforms, utils\n",
    "from PIL import Image\n",
    "from torch.autograd import Variable\n",
    "import random\n",
    "import math\n",
    "from functools import reduce\n",
    "from scipy import stats\n",
    "\n",
    "import cv2\n",
    "from glob import glob\n",
    "\n",
    "import skimage\n",
    "from skimage.io import imread\n",
    "import matplotlib.pyplot as plt\n",
    "import seaborn as sns\n",
    "sns.set(color_codes=True)\n",
    "%matplotlib inline\n",
    "from skimage.color import rgb2grey, rgb2hsv, hsv2rgb, grey2rgb, rgba2rgb\n",
    "import os\n",
    "import torch\n",
    "import pandas as pd\n",
    "from skimage import io, transform\n",
    "import numpy as np\n",
    "import matplotlib.pyplot as plt\n",
    "from torch.utils.data import Dataset, DataLoader\n",
    "from torch.utils.data.sampler import SubsetRandomSampler\n",
    "from torchvision import transforms, utils\n",
    "from PIL import Image\n",
    "from torchvision import transforms\n",
    "from torch.autograd import Variable\n",
    "import random\n",
    "import math\n",
    "from functools import reduce\n",
    "\n",
    "import cv2\n",
    "from glob import glob\n",
    "\n",
    "import skimage\n",
    "from skimage.io import imread\n",
    "from skimage import img_as_float, img_as_ubyte, img_as_uint\n",
    "from skimage.morphology import reconstruction\n",
    "from skimage.util import invert\n",
    "from scipy import ndimage as ndi\n",
    "from skimage.morphology import watershed\n",
    "from skimage.feature import peak_local_max\n",
    "from skimage.color import label2rgb\n",
    "from skimage.filters import gaussian\n",
    "\n",
    "from skimage.morphology import erosion, dilation, binary_dilation, opening, closing, white_tophat\n",
    "from skimage.morphology import disk\n",
    "\n",
    "import sklearn\n",
    "from skimage.morphology import label\n",
    "\n",
    "import utils\n",
    "from utils import show_images, plot_img_and_hist"
   ]
  },
  {
   "cell_type": "code",
   "execution_count": 175,
   "metadata": {
    "collapsed": true
   },
   "outputs": [],
   "source": [
    "transform = reload(transform)\n",
    "utils = reload(utils)"
   ]
  },
  {
   "cell_type": "code",
   "execution_count": 602,
   "metadata": {},
   "outputs": [
    {
     "name": "stdout",
     "output_type": "stream",
     "text": [
      "Overwriting main.py\n"
     ]
    }
   ],
   "source": [
    "#%pycat main.py\n",
    "\n",
    "import os\n",
    "import shutil\n",
    "import torch\n",
    "from torch.autograd import Variable\n",
    "from tqdm import tqdm\n",
    "\n",
    "def save_model(\n",
    "        model,\n",
    "        optimizer,\n",
    "        stats,\n",
    "        it,\n",
    "        is_best=False,\n",
    "        fname='model_save.pth.tar'):\n",
    "    m_state_dict = model.state_dict()\n",
    "    o_state_dict = optimizer.state_dict()\n",
    "\n",
    "    torch.save({\n",
    "        'it': it,\n",
    "        'model_state_dict': m_state_dict,\n",
    "        'optimizer_state_dict': o_state_dict,\n",
    "        'stats': stats},\n",
    "        fname)\n",
    "    if is_best:\n",
    "        print('new best: ', stats[-1])\n",
    "        shutil.copyfile(fname, 'model_best.pth.tar')\n",
    "\n",
    "\n",
    "def load_model(model, optimizer, fname='model_best.pth.tar'):\n",
    "\n",
    "    if os.path.isfile(fname):\n",
    "        checkpoint = torch.load(fname)\n",
    "        it = checkpoint['it']\n",
    "        model.load_state_dict(checkpoint['model_state_dict'])\n",
    "        optimizer.load_state_dict(checkpoint['optimizer_state_dict'])\n",
    "        stats = checkpoint['stats']\n",
    "        print(\n",
    "            \"=> loaded checkpoint '{}' (iteration {})\".format(\n",
    "                fname, checkpoint['it']))\n",
    "        return it, stats\n",
    "    else:\n",
    "        print(\"=> no checkpoint found at '{}'\".format(fname))\n",
    "        return None, None\n",
    "\n",
    "\n",
    "def validate(model, loader, criterion):\n",
    "    model.eval()\n",
    "    running_loss = 0.0\n",
    "    cnt = 0\n",
    "    for i, (img, (labels, labels_seg)) in enumerate(loader):\n",
    "        img, labels_seg = Variable(img), Variable(labels_seg)\n",
    "        outputs = model(img)\n",
    "        loss = criterion(outputs, labels_seg)\n",
    "        running_loss += loss.data[0]\n",
    "        cnt = cnt + 1\n",
    "    l = running_loss / cnt\n",
    "    return l\n",
    "\n",
    "\n",
    "def train(\n",
    "        train_loader,\n",
    "        valid_loader,\n",
    "        model,\n",
    "        criterion,\n",
    "        optimizer,\n",
    "        stats,\n",
    "        epoch,\n",
    "        eval_every,\n",
    "        print_every,\n",
    "        save_every):\n",
    "    running_loss = 0.0\n",
    "    cnt = 0\n",
    "    global it, best_it, best_loss\n",
    "    for it, (img, (labels, labels_seg)) in tqdm(enumerate(train_loader, it + 1)):\n",
    "        img, labels_seg = Variable(img), Variable(labels_seg)\n",
    "        \n",
    "        model.train(True)\n",
    "\n",
    "        outputs = model(img)\n",
    "        loss = criterion(outputs, labels_seg)\n",
    "        optimizer.zero_grad()\n",
    "        loss.backward()\n",
    "        optimizer.step()\n",
    "        cnt = cnt + 1\n",
    "\n",
    "        running_loss += loss.data[0]\n",
    "        if cnt > 0 and it % eval_every == 0:\n",
    "\n",
    "            l = validate(model, valid_loader, criterion)\n",
    "            stats.append((it, running_loss / cnt, l))\n",
    "            running_loss = 0.0\n",
    "\n",
    "            if cnt > 0 and it % print_every == 0:\n",
    "                print('[%d, %d]\\ttrain loss: %.3f\\tvalid loss: %.3f' %\n",
    "                      (epoch, it, stats[-1][1], stats[-1][2]))\n",
    "            if it % save_every == 0:\n",
    "                is_best = False\n",
    "                if best_loss > l:\n",
    "                    best_loss = l\n",
    "                    best_it = it\n",
    "                    is_best = True\n",
    "                    save_model(\n",
    "                        model,\n",
    "                        optimizer,\n",
    "                        stats,\n",
    "                        it,\n",
    "                        is_best,\n",
    "                        'model_save.pth.tar')\n",
    "            cnt = 0\n",
    "    return it, best_loss, best_it\n",
    "\n",
    "def baseline(\n",
    "        train_loader,\n",
    "        valid_loader,\n",
    "        criterion,\n",
    "        it):\n",
    "    \n",
    "    m = 0.0\n",
    "    cnt = 0.0\n",
    "    for i, (img, (labels, labels_seg)) in enumerate(train_loader):\n",
    "        if i > it:\n",
    "            break\n",
    "        m += labels_seg[0].sum()\n",
    "        cnt += labels_seg[0].numel()\n",
    "    m = m / cnt\n",
    "\n",
    "    running_loss = 0.0\n",
    "    \n",
    "    cnt = 0\n",
    "    for i, (img, (labels,labels_seg)) in enumerate(valid_loader):\n",
    "        outputs = labels_seg.clone()        \n",
    "        outputs = torch.clamp(outputs, m, m)\n",
    "        img, labels = Variable(img), Variable(labels_seg)\n",
    "        outputs = Variable(outputs)\n",
    "    \n",
    "        loss = criterion(outputs, labels_seg)\n",
    "\n",
    "        running_loss += loss.data[0]\n",
    "        cnt += 1\n",
    "\n",
    "    return running_loss/cnt, m\n",
    "\n",
    "\n",
    "def adjust_learning_rate(optimizer, epoch, lr0):\n",
    "    \"\"\"Sets the learning rate to the initial LR decayed by 10 every 30 epochs\"\"\"\n",
    "    lr = lr0 * (0.1 ** (epoch // 30))\n",
    "    for param_group in optimizer.param_groups:\n",
    "        param_group['lr'] = lr\n",
    "\n"
   ]
  },
  {
   "cell_type": "code",
   "execution_count": 599,
   "metadata": {},
   "outputs": [
    {
     "name": "stdout",
     "output_type": "stream",
     "text": [
      "Overwriting dataset.py\n"
     ]
    }
   ],
   "source": [
    "##%%writefile dataset.py\n",
    "#%pycat dataset.py\n",
    "\n",
    "from __future__ import division\n",
    "import os\n",
    "import torch\n",
    "import pandas as pd\n",
    "import numpy as np\n",
    "\n",
    "import random\n",
    "import math\n",
    "from functools import reduce\n",
    "\n",
    "from glob import glob\n",
    "\n",
    "from torchvision import transforms, utils\n",
    "from torch.autograd import Variable\n",
    "from torch.utils.data import Dataset, DataLoader\n",
    "from torch.utils.data.sampler import SubsetRandomSampler\n",
    "\n",
    "from PIL import Image\n",
    "\n",
    "import skimage\n",
    "from skimage import img_as_float, img_as_ubyte\n",
    "from skimage.io import imread\n",
    "from skimage.color import rgb2grey\n",
    "\n",
    "import sklearn\n",
    "from sklearn.model_selection import train_test_split as train_test_split_sk\n",
    "\n",
    "import cv2\n",
    "\n",
    "\n",
    "class NucleusDataset(Dataset):\n",
    "    \"\"\"Nucleus dataset.\"\"\"\n",
    "\n",
    "    @staticmethod\n",
    "    def read_and_stack(in_img_list):\n",
    "        return np.sum(np.stack([i*(imread(c_img)>0) for i, c_img in enumerate(in_img_list, 1)], 0), 0)\n",
    "        #r = (reduce(\n",
    "        #        np.bitwise_or, [\n",
    "        #            np.asarray(Image.open(c_img)) for c_img in iter(in_img_list)])).astype(np.uint8)\n",
    "        #r = r / r.max()\n",
    "        return r\n",
    "\n",
    "    @staticmethod\n",
    "    def read_image(in_img_list):\n",
    "        #img = img_as_float(rgb2hsv(rgba2rgb(io.imread(in_img_list[0]))))\n",
    "        img = Image.open(in_img_list[0])\n",
    "        return np.array(img.convert('RGB')), img.size\n",
    "\n",
    "    @staticmethod\n",
    "    def as_segmentation(img):\n",
    "        return (img>0).astype(int)\n",
    "\n",
    "    @staticmethod\n",
    "    def is_inverted(img, invert_thresh_pd=10.0):\n",
    "        img_grey = img_as_ubyte(rgb2grey(img))\n",
    "        img_th = cv2.threshold(img_grey,0,255,cv2.THRESH_OTSU)[1]\n",
    "        return np.sum(img_th==255)>((invert_thresh_pd/10.0)*np.sum(img_th==0))\n",
    "\n",
    "    def __init__(\n",
    "            self,\n",
    "            root_dir=None,\n",
    "            stage_name='stage1',\n",
    "            group_name='train',\n",
    "            transform=None):\n",
    "        \"\"\"\n",
    "        Args:\n",
    "            root_dir (string): Directory with all the images.\n",
    "            transform (callable, optional): Optional transform to be applied\n",
    "                on a sample.\n",
    "        \"\"\"\n",
    "\n",
    "        self.root_dir = root_dir\n",
    "        self.transform = transform\n",
    "\n",
    "        if root_dir is None:\n",
    "            return\n",
    "\n",
    "        all_images = glob(\n",
    "            os.path.join(\n",
    "                root_dir,\n",
    "                stage_name +\n",
    "                '_*',\n",
    "                '*',\n",
    "                '*',\n",
    "                '*'))\n",
    "        \n",
    "        img_df = pd.DataFrame({'path': all_images})\n",
    "\n",
    "        def img_id(in_path): return in_path.split('/')[-3]\n",
    "\n",
    "        def img_type(in_path): return in_path.split('/')[-2]\n",
    "\n",
    "        def img_group(in_path): return in_path.split('/')[-4].split('_')[1]\n",
    "\n",
    "        def img_stage(in_path): return in_path.split('/')[-4].split('_')[0]\n",
    "        img_df['id'] = img_df['path'].map(img_id)\n",
    "        img_df['type'] = img_df['path'].map(img_type)\n",
    "        img_df['group'] = img_df['path'].map(img_group)\n",
    "        img_df['stage'] = img_df['path'].map(img_stage)\n",
    "        self.img_df = img_df\n",
    "\n",
    "        data_df = img_df.query('group==\"%s\"' % group_name)\n",
    "        data_rows = []\n",
    "        group_cols = ['stage', 'id']\n",
    "        for n_group, n_rows in data_df.groupby(group_cols):\n",
    "            c_row = {\n",
    "                col_name: col_value for col_name,\n",
    "                col_value in zip(\n",
    "                    group_cols,\n",
    "                    n_group)}\n",
    "            c_row['masks'] = n_rows.query('type == \"masks\"')[\n",
    "                'path'].values.tolist()\n",
    "            c_row['images'] = n_rows.query('type == \"images\"')[\n",
    "                'path'].values.tolist()\n",
    "            data_rows += [c_row]\n",
    "\n",
    "        data_df = pd.DataFrame(data_rows)\n",
    "\n",
    "        ret = data_df['images'].map(self.read_image)\n",
    "        #(data_df['images'], data_df['format'], data_df['mode'], data_df['size']) = ([x[i] for x in ret] for i in range(4))\n",
    "        (data_df['images'], data_df['size']) = ([x[i] for x in ret] for i in range(2))\n",
    "    \n",
    "        data_df['masks'] = data_df['masks'].map(\n",
    "            self.read_and_stack).map(\n",
    "            lambda x: x.astype(np.uint8))\n",
    "\n",
    "        data_df['masks_seg'] = data_df['masks'].map(self.as_segmentation)\n",
    "        data_df['inv'] = data_df['images'].map(self.is_inverted)\n",
    "\n",
    "        self.data_df = data_df\n",
    "\n",
    "        \n",
    "    def __len__(self):\n",
    "        return self.data_df.shape[0]\n",
    "\n",
    "    \n",
    "    def __getitem__(self, idx):\n",
    "\n",
    "        sample = self.data_df[\"images\"].iloc[idx]\n",
    "        masks =  self.data_df[\"masks\"].iloc[idx]\n",
    "        masks_seg =  self.data_df[\"masks_seg\"].iloc[idx]\n",
    "        if self.transform:\n",
    "            sample, masks, masks_seg = self.transform(sample, masks, masks_seg)\n",
    "\n",
    "        return sample, (masks, masks_seg)\n",
    "    \n",
    "    \n",
    "    def train_test_split(self, **options):\n",
    "        \"\"\" Return a list of splitted indices from a DataSet.\n",
    "        Indices can be used with DataLoader to build a train and validation set.\n",
    "\n",
    "        Arguments:\n",
    "            A Dataset\n",
    "            A test_size, as a float between 0 and 1 (percentage split) or as an int (fixed number split)\n",
    "            Shuffling True or False\n",
    "            Random seed\n",
    "        \"\"\"\n",
    "   \n",
    "        df_train, df_test = train_test_split_sk(self.data_df, **options)\n",
    "        dset_train = NucleusDataset(transform=self.transform)\n",
    "        dset_train.data_df = df_train\n",
    "\n",
    "        dset_test = NucleusDataset(transform=self.transform)\n",
    "        dset_test.data_df = df_test\n",
    "\n",
    "        return dset_train, dset_test\n"
   ]
  },
  {
   "cell_type": "code",
   "execution_count": 95,
   "metadata": {
    "collapsed": true
   },
   "outputs": [],
   "source": [
    "import transform\n",
    "from transform import random_rotate90_transform2\n",
    "import torchvision\n",
    "from torchvision.transforms import ToTensor, ToPILImage\n",
    "\n",
    "#Note: for image and mask, there is no compatible solution that can use transforms.Compse(), see https://github.com/pytorch/vision/issues/9\n",
    "#transformations = transforms.Compose([random_rotate90_transform2(),transforms.ToTensor(),])\n",
    "\n",
    "def train_transform(img, mask, mask_seg):\n",
    "    # HACK (make dims consistent, first one is channels)\n",
    "    if len(mask.shape) == 2:\n",
    "        mask = np.expand_dims(mask, 2)\n",
    "    if len(mask_seg.shape) == 2:\n",
    "        mask_seg = np.expand_dims(mask_seg, 2)\n",
    "    img, mask, mask_seg = random_rotate90_transform2(0.5, img, mask, mask_seg)\n",
    "    img = ToTensor()(img)\n",
    "    mask = torch.from_numpy(np.transpose(mask, (2, 0, 1))).float()\n",
    "    mask_seg = torch.from_numpy(np.transpose(mask_seg, (2, 0, 1))).float()\n",
    "    return img, mask, mask_seg\n",
    "\n",
    "dsb_data_dir = os.path.join('..', '..', 'input')\n",
    "stage_name = 'stage1'\n",
    "#dset = NucleusDataset(dsb_data_dir, stage_name,transform=train_transform)\n",
    "dset.transform=train_transform\n",
    "#dset_save = dset\n",
    "#train_idx, valid_idx = train_valid_split(dset,test_size=0.05,random_seed=1,shuffle=True)\n",
    "#train_sampler = SubsetRandomSampler(train_idx)\n",
    "#valid_sampler = SubsetRandomSampler(valid_idx)\n",
    "#train_loader = DataLoader(dset,batch_size=1,sampler=train_sampler,num_workers=4)\n",
    "#valid_loader = DataLoader(dset,batch_size=1,sampler=valid_sampler,num_workers=4)\n",
    "\n",
    "# hack: this image format (1388, 1040) occurs only ones, stratify complains .. \n",
    "dset.data_df = dset.data_df[dset.data_df['size'] != (1388, 1040)]\n",
    "\n",
    "stratify = dset.data_df['images'].map(lambda x: '{}'.format(x.size))\n",
    "train_dset, valid_dset = dset.train_test_split(test_size=0.05, random_state=1, shuffle=True, stratify=stratify)\n",
    "train_loader = DataLoader(train_dset, batch_size=1,shuffle=True)\n",
    "valid_loader = DataLoader(valid_dset, batch_size=1,shuffle=True)\n",
    "\n"
   ]
  },
  {
   "cell_type": "code",
   "execution_count": null,
   "metadata": {
    "collapsed": true,
    "scrolled": true
   },
   "outputs": [],
   "source": [
    "# summary of image formats\n",
    "dset.data_df.groupby(['format','mode','size']).size()"
   ]
  },
  {
   "cell_type": "code",
   "execution_count": null,
   "metadata": {
    "collapsed": true,
    "scrolled": true
   },
   "outputs": [],
   "source": [
    "modes = dset.data_df['images'].map(lambda x: x.mode)\n",
    "sizes = dset.data_df['images'].map(lambda x: x.size)\n",
    "print np.unique(sizes)"
   ]
  },
  {
   "cell_type": "code",
   "execution_count": 600,
   "metadata": {},
   "outputs": [
    {
     "name": "stdout",
     "output_type": "stream",
     "text": [
      "Overwriting architectures.py\n"
     ]
    }
   ],
   "source": [
    "#%%writefile architectures.py\n",
    "#%pycat architectures.py\n",
    "\n",
    "import torch\n",
    "import torch.autograd as autograd\n",
    "import torch.nn as nn\n",
    "import torch.nn.functional as F\n",
    "\n",
    "torch.manual_seed(1)\n",
    "\n",
    "# class torch.nn.Conv2d(in_channels, out_channels, kernel_size, stride=1, padding=0, dilation=1, groups=1, bias=True)[source]\n",
    "\n",
    "\n",
    "class Flatten(nn.Module):\n",
    "    def forward(self, input):\n",
    "        return input.view(input.size(0), -1)\n",
    "\n",
    "    \n",
    "class ImgModDetector(nn.Module):\n",
    "    def __init__(self):\n",
    "        super(ImgModDetector, self).__init__()\n",
    "        self.layer1 = nn.Sequential(\n",
    "            nn.Conv2d(3, 3, stride=1, kernel_size=1, padding=0))\n",
    "        self.layer2 = nn.Sequential(\n",
    "            nn.Conv2d(3, 10, stride=1, kernel_size=1, padding=0),\n",
    "            nn.Sigmoid())\n",
    "        self.fc = nn.Linear(10,3)\n",
    "\n",
    "    def forward(self, x):\n",
    "        out = self.layer1(x)\n",
    "        out = self.layer2(out)\n",
    "        mx = nn.Sequential(nn.MaxPool2d((out.size()[-2],out.size()[-1])))\n",
    "        out = mx(out).squeeze(-1).squeeze(-1)\n",
    "        out = self.fc(out)\n",
    "        \n",
    "        # replicate to width x height\n",
    "        out = out.unsqueeze(2).unsqueeze(2).expand(-1,-1,x.size()[-2],x.size()[-1])\n",
    "\n",
    "        return out\n",
    "\n",
    "class Coarse(nn.Module):\n",
    "    def __init__(self):\n",
    "        super(Coarse, self).__init__()\n",
    "        self.layer1 = nn.Sequential(\n",
    "            nn.Conv2d(3, 3, stride=2, kernel_size=2, padding=0),\n",
    "            nn.ReLU(),\n",
    "            nn.MaxPool2d(3, stride=2, padding=0))\n",
    "        self.layer2 = nn.Sequential(\n",
    "            nn.Conv2d(3, 3, stride=2, kernel_size=2, padding=0),\n",
    "            nn.ReLU(),\n",
    "            nn.MaxPool2d(3, stride=2, padding=0))\n",
    "        self.layer3 = nn.Sequential(\n",
    "            nn.Conv2d(3, 3, stride=2, kernel_size=2, padding=0),\n",
    "            nn.ReLU(),\n",
    "            nn.MaxPool2d(3, stride=2, padding=0))\n",
    "\n",
    "    def forward(self, x):\n",
    "        l1 = self.layer1(x)\n",
    "        l2 = self.layer2(l1)\n",
    "        l3 = self.layer3(l2)\n",
    "\n",
    "        up = nn.Upsample((x.shape[-2],x.shape[-1]), mode='bilinear')\n",
    "        l1out = up(l1)\n",
    "        l2out = up(l2) \n",
    "        l3out = up(l3)\n",
    "        return l1out, l2out, l3out\n",
    "\n",
    "        \n",
    "class CNN(nn.Module):\n",
    "    def __init__(self):\n",
    "        super(CNN, self).__init__()\n",
    "        self.mod = ImgModDetector()\n",
    "        self.coarse = Coarse()\n",
    "        self.color_adjust = nn.Sequential(\n",
    "            nn.Conv2d(6, 3, stride=1, kernel_size=1, padding=0),\n",
    "            nn.Sigmoid(),\n",
    "            nn.Conv2d(3, 3, stride=1, kernel_size=1, padding=0))\n",
    "\n",
    "        self.layer1 = nn.Sequential(\n",
    "            nn.Conv2d(15, 16, stride=1, kernel_size=3, padding=1),\n",
    "            #nn.BatchNorm2d(16),\n",
    "            nn.ReLU(),\n",
    "            nn.MaxPool2d(3, stride=1, padding=1))\n",
    "        self.layer2 = nn.Sequential(\n",
    "            nn.Conv2d(16, 16, stride=1, kernel_size=3, padding=1),\n",
    "            #nn.BatchNorm2d(16),\n",
    "            nn.ReLU(),\n",
    "            nn.MaxPool2d(3, stride=1, padding=1))\n",
    "        self.layer3 = nn.Sequential(\n",
    "            nn.Conv2d(16, 16, stride=1, kernel_size=3, padding=1),\n",
    "            #nn.BatchNorm2d(16),\n",
    "            nn.ReLU())\n",
    "        self.layer4 = nn.Sequential(\n",
    "            nn.Conv2d(16, 1, stride=1, kernel_size=1, padding=0))\n",
    "\n",
    "    def forward(self, x):\n",
    "        img_tp = self.mod(x)\n",
    "        img_and_type = torch.cat((x,img_tp),1)\n",
    "        norm_img = self.color_adjust(img_and_type)\n",
    "        c1, c2, c3 = self.coarse(norm_img)\n",
    "        norm_img_and_type_and_coarse = torch.cat((x,img_tp,c1,c2,c3),1)\n",
    "\n",
    "        out = self.layer1(norm_img_and_type_and_coarse)\n",
    "        out = self.layer2(out)\n",
    "        out = self.layer3(out)\n",
    "        out = self.layer4(out)\n",
    "        return out\n",
    "    \n",
    "    def get_color_adjust(self, x):\n",
    "        img_tp = self.mod(x)\n",
    "        img_and_type = torch.cat((x,img_tp),1)\n",
    "        norm_img = self.color_adjust(img_and_type)\n",
    "        return norm_img\n",
    "    \n",
    "    def get_coarse(self, x):\n",
    "        img_tp = self.mod(x)\n",
    "        img_and_type = torch.cat((x,img_tp),1)\n",
    "        norm_img = self.color_adjust(img_and_type)\n",
    "        c1, c2, c3 = self.coarse(norm_img)\n",
    "        return c1, c2, c3\n",
    "        \n",
    "        \n",
    "\n"
   ]
  },
  {
   "cell_type": "markdown",
   "metadata": {},
   "source": [
    "# Training"
   ]
  },
  {
   "cell_type": "code",
   "execution_count": 584,
   "metadata": {},
   "outputs": [
    {
     "name": "stderr",
     "output_type": "stream",
     "text": [
      "10it [00:29,  2.99s/it]"
     ]
    },
    {
     "name": "stdout",
     "output_type": "stream",
     "text": [
      "[0, 10]\ttrain loss: 0.151\tvalid loss: 0.141\n",
      "('new best: ', (10, 0.1508605394512415, 0.14138794186360695))\n"
     ]
    },
    {
     "name": "stderr",
     "output_type": "stream",
     "text": [
      "20it [00:51,  2.55s/it]"
     ]
    },
    {
     "name": "stdout",
     "output_type": "stream",
     "text": [
      "[0, 20]\ttrain loss: 0.069\tvalid loss: 0.134\n",
      "('new best: ', (20, 0.06947005353868008, 0.13381062616484568))\n"
     ]
    },
    {
     "name": "stderr",
     "output_type": "stream",
     "text": [
      "30it [01:12,  2.41s/it]"
     ]
    },
    {
     "name": "stdout",
     "output_type": "stream",
     "text": [
      "[0, 30]\ttrain loss: 0.060\tvalid loss: 0.125\n",
      "('new best: ', (30, 0.060165710374712945, 0.12511444675243077))\n"
     ]
    },
    {
     "name": "stderr",
     "output_type": "stream",
     "text": [
      "40it [01:39,  2.49s/it]"
     ]
    },
    {
     "name": "stdout",
     "output_type": "stream",
     "text": [
      "[0, 40]\ttrain loss: 0.034\tvalid loss: 0.116\n",
      "('new best: ', (40, 0.03398673869669437, 0.11621393918689779))\n"
     ]
    },
    {
     "name": "stderr",
     "output_type": "stream",
     "text": [
      "50it [02:01,  2.44s/it]"
     ]
    },
    {
     "name": "stdout",
     "output_type": "stream",
     "text": [
      "[0, 50]\ttrain loss: 0.015\tvalid loss: 0.109\n",
      "('new best: ', (50, 0.0153909264318645, 0.10906757881371852))\n"
     ]
    },
    {
     "name": "stderr",
     "output_type": "stream",
     "text": [
      "60it [02:23,  2.39s/it]"
     ]
    },
    {
     "name": "stdout",
     "output_type": "stream",
     "text": [
      "[0, 60]\ttrain loss: 0.023\tvalid loss: 0.104\n",
      "('new best: ', (60, 0.0230019719650348, 0.10420079410130925))\n"
     ]
    },
    {
     "name": "stderr",
     "output_type": "stream",
     "text": [
      "70it [02:46,  2.37s/it]"
     ]
    },
    {
     "name": "stdout",
     "output_type": "stream",
     "text": [
      "[0, 70]\ttrain loss: 0.015\tvalid loss: 0.101\n",
      "('new best: ', (70, 0.015239033102989196, 0.10103696699747268))\n"
     ]
    },
    {
     "name": "stderr",
     "output_type": "stream",
     "text": [
      "80it [03:10,  2.38s/it]"
     ]
    },
    {
     "name": "stdout",
     "output_type": "stream",
     "text": [
      "[0, 80]\ttrain loss: 0.017\tvalid loss: 0.101\n",
      "('new best: ', (80, 0.016849563806317747, 0.10080118066466906))\n"
     ]
    },
    {
     "name": "stderr",
     "output_type": "stream",
     "text": [
      "90it [03:35,  2.39s/it]"
     ]
    },
    {
     "name": "stdout",
     "output_type": "stream",
     "text": [
      "[0, 90]\ttrain loss: 0.018\tvalid loss: 0.104\n"
     ]
    },
    {
     "name": "stderr",
     "output_type": "stream",
     "text": [
      "100it [03:55,  2.35s/it]"
     ]
    },
    {
     "name": "stdout",
     "output_type": "stream",
     "text": [
      "[0, 100]\ttrain loss: 0.015\tvalid loss: 0.107\n"
     ]
    },
    {
     "name": "stderr",
     "output_type": "stream",
     "text": [
      "110it [04:26,  2.42s/it]"
     ]
    },
    {
     "name": "stdout",
     "output_type": "stream",
     "text": [
      "[0, 110]\ttrain loss: 0.012\tvalid loss: 0.108\n"
     ]
    },
    {
     "name": "stderr",
     "output_type": "stream",
     "text": [
      "119it [04:30,  2.27s/it]"
     ]
    },
    {
     "ename": "KeyboardInterrupt",
     "evalue": "",
     "output_type": "error",
     "traceback": [
      "\u001b[0;31m---------------------------------------------------------------------------\u001b[0m",
      "\u001b[0;31mKeyboardInterrupt\u001b[0m                         Traceback (most recent call last)",
      "\u001b[0;32m<ipython-input-584-b0d75137c7a6>\u001b[0m in \u001b[0;36m<module>\u001b[0;34m()\u001b[0m\n\u001b[1;32m     25\u001b[0m \u001b[0;32mfor\u001b[0m \u001b[0mepoch\u001b[0m \u001b[0;32min\u001b[0m \u001b[0mrange\u001b[0m\u001b[0;34m(\u001b[0m\u001b[0mepochs\u001b[0m\u001b[0;34m)\u001b[0m\u001b[0;34m:\u001b[0m\u001b[0;34m\u001b[0m\u001b[0m\n\u001b[1;32m     26\u001b[0m     \u001b[0;31m# adjust_learning_rate(optimizer, epoch)\u001b[0m\u001b[0;34m\u001b[0m\u001b[0;34m\u001b[0m\u001b[0m\n\u001b[0;32m---> 27\u001b[0;31m     \u001b[0mit\u001b[0m\u001b[0;34m,\u001b[0m \u001b[0mbest_loss\u001b[0m\u001b[0;34m,\u001b[0m \u001b[0mbest_it\u001b[0m \u001b[0;34m=\u001b[0m \u001b[0mtrain\u001b[0m\u001b[0;34m(\u001b[0m\u001b[0mtrain_loader\u001b[0m\u001b[0;34m,\u001b[0m \u001b[0mvalid_loader\u001b[0m\u001b[0;34m,\u001b[0m \u001b[0mmodel\u001b[0m\u001b[0;34m,\u001b[0m \u001b[0mcriterion\u001b[0m\u001b[0;34m,\u001b[0m \u001b[0moptimizer\u001b[0m\u001b[0;34m,\u001b[0m \u001b[0mstats\u001b[0m\u001b[0;34m,\u001b[0m \u001b[0mepoch\u001b[0m\u001b[0;34m,\u001b[0m \u001b[0meval_every\u001b[0m\u001b[0;34m,\u001b[0m \u001b[0mprint_every\u001b[0m\u001b[0;34m,\u001b[0m \u001b[0msave_every\u001b[0m\u001b[0;34m)\u001b[0m\u001b[0;34m\u001b[0m\u001b[0m\n\u001b[0m\u001b[1;32m     28\u001b[0m \u001b[0;32mprint\u001b[0m \u001b[0mit\u001b[0m\u001b[0;34m,\u001b[0m \u001b[0mbest_loss\u001b[0m\u001b[0;34m,\u001b[0m \u001b[0mbest_it\u001b[0m\u001b[0;34m\u001b[0m\u001b[0m\n",
      "\u001b[0;32m<ipython-input-536-fa8ea9bdd553>\u001b[0m in \u001b[0;36mtrain\u001b[0;34m(train_loader, valid_loader, model, criterion, optimizer, stats, epoch, eval_every, print_every, save_every)\u001b[0m\n\u001b[1;32m     89\u001b[0m         \u001b[0;32mif\u001b[0m \u001b[0mcnt\u001b[0m \u001b[0;34m>\u001b[0m \u001b[0;36m0\u001b[0m \u001b[0;32mand\u001b[0m \u001b[0mit\u001b[0m \u001b[0;34m%\u001b[0m \u001b[0meval_every\u001b[0m \u001b[0;34m==\u001b[0m \u001b[0;36m0\u001b[0m\u001b[0;34m:\u001b[0m\u001b[0;34m\u001b[0m\u001b[0m\n\u001b[1;32m     90\u001b[0m \u001b[0;34m\u001b[0m\u001b[0m\n\u001b[0;32m---> 91\u001b[0;31m             \u001b[0ml\u001b[0m \u001b[0;34m=\u001b[0m \u001b[0mvalidate\u001b[0m\u001b[0;34m(\u001b[0m\u001b[0mmodel\u001b[0m\u001b[0;34m,\u001b[0m \u001b[0mvalid_loader\u001b[0m\u001b[0;34m,\u001b[0m \u001b[0mcriterion\u001b[0m\u001b[0;34m)\u001b[0m\u001b[0;34m\u001b[0m\u001b[0m\n\u001b[0m\u001b[1;32m     92\u001b[0m             \u001b[0mstats\u001b[0m\u001b[0;34m.\u001b[0m\u001b[0mappend\u001b[0m\u001b[0;34m(\u001b[0m\u001b[0;34m(\u001b[0m\u001b[0mit\u001b[0m\u001b[0;34m,\u001b[0m \u001b[0mrunning_loss\u001b[0m \u001b[0;34m/\u001b[0m \u001b[0mcnt\u001b[0m\u001b[0;34m,\u001b[0m \u001b[0ml\u001b[0m\u001b[0;34m)\u001b[0m\u001b[0;34m)\u001b[0m\u001b[0;34m\u001b[0m\u001b[0m\n\u001b[1;32m     93\u001b[0m             \u001b[0mrunning_loss\u001b[0m \u001b[0;34m=\u001b[0m \u001b[0;36m0.0\u001b[0m\u001b[0;34m\u001b[0m\u001b[0m\n",
      "\u001b[0;32m<ipython-input-536-fa8ea9bdd553>\u001b[0m in \u001b[0;36mvalidate\u001b[0;34m(model, loader, criterion)\u001b[0m\n\u001b[1;32m     52\u001b[0m     \u001b[0;32mfor\u001b[0m \u001b[0mi\u001b[0m\u001b[0;34m,\u001b[0m \u001b[0;34m(\u001b[0m\u001b[0mimg\u001b[0m\u001b[0;34m,\u001b[0m \u001b[0;34m(\u001b[0m\u001b[0mlabels\u001b[0m\u001b[0;34m,\u001b[0m \u001b[0mlabels_seg\u001b[0m\u001b[0;34m)\u001b[0m\u001b[0;34m)\u001b[0m \u001b[0;32min\u001b[0m \u001b[0menumerate\u001b[0m\u001b[0;34m(\u001b[0m\u001b[0mloader\u001b[0m\u001b[0;34m)\u001b[0m\u001b[0;34m:\u001b[0m\u001b[0;34m\u001b[0m\u001b[0m\n\u001b[1;32m     53\u001b[0m         \u001b[0mimg\u001b[0m\u001b[0;34m,\u001b[0m \u001b[0mlabels_seg\u001b[0m \u001b[0;34m=\u001b[0m \u001b[0mVariable\u001b[0m\u001b[0;34m(\u001b[0m\u001b[0mimg\u001b[0m\u001b[0;34m)\u001b[0m\u001b[0;34m,\u001b[0m \u001b[0mVariable\u001b[0m\u001b[0;34m(\u001b[0m\u001b[0mlabels_seg\u001b[0m\u001b[0;34m)\u001b[0m\u001b[0;34m\u001b[0m\u001b[0m\n\u001b[0;32m---> 54\u001b[0;31m         \u001b[0moutputs\u001b[0m \u001b[0;34m=\u001b[0m \u001b[0mmodel\u001b[0m\u001b[0;34m(\u001b[0m\u001b[0mimg\u001b[0m\u001b[0;34m)\u001b[0m\u001b[0;34m\u001b[0m\u001b[0m\n\u001b[0m\u001b[1;32m     55\u001b[0m         \u001b[0mloss\u001b[0m \u001b[0;34m=\u001b[0m \u001b[0mcriterion\u001b[0m\u001b[0;34m(\u001b[0m\u001b[0moutputs\u001b[0m\u001b[0;34m,\u001b[0m \u001b[0mlabels_seg\u001b[0m\u001b[0;34m)\u001b[0m\u001b[0;34m\u001b[0m\u001b[0m\n\u001b[1;32m     56\u001b[0m         \u001b[0mrunning_loss\u001b[0m \u001b[0;34m+=\u001b[0m \u001b[0mloss\u001b[0m\u001b[0;34m.\u001b[0m\u001b[0mdata\u001b[0m\u001b[0;34m[\u001b[0m\u001b[0;36m0\u001b[0m\u001b[0;34m]\u001b[0m\u001b[0;34m\u001b[0m\u001b[0m\n",
      "\u001b[0;32m/Users/stefan/anaconda/lib/python2.7/site-packages/torch/nn/modules/module.pyc\u001b[0m in \u001b[0;36m__call__\u001b[0;34m(self, *input, **kwargs)\u001b[0m\n\u001b[1;32m    355\u001b[0m             \u001b[0mresult\u001b[0m \u001b[0;34m=\u001b[0m \u001b[0mself\u001b[0m\u001b[0;34m.\u001b[0m\u001b[0m_slow_forward\u001b[0m\u001b[0;34m(\u001b[0m\u001b[0;34m*\u001b[0m\u001b[0minput\u001b[0m\u001b[0;34m,\u001b[0m \u001b[0;34m**\u001b[0m\u001b[0mkwargs\u001b[0m\u001b[0;34m)\u001b[0m\u001b[0;34m\u001b[0m\u001b[0m\n\u001b[1;32m    356\u001b[0m         \u001b[0;32melse\u001b[0m\u001b[0;34m:\u001b[0m\u001b[0;34m\u001b[0m\u001b[0m\n\u001b[0;32m--> 357\u001b[0;31m             \u001b[0mresult\u001b[0m \u001b[0;34m=\u001b[0m \u001b[0mself\u001b[0m\u001b[0;34m.\u001b[0m\u001b[0mforward\u001b[0m\u001b[0;34m(\u001b[0m\u001b[0;34m*\u001b[0m\u001b[0minput\u001b[0m\u001b[0;34m,\u001b[0m \u001b[0;34m**\u001b[0m\u001b[0mkwargs\u001b[0m\u001b[0;34m)\u001b[0m\u001b[0;34m\u001b[0m\u001b[0m\n\u001b[0m\u001b[1;32m    358\u001b[0m         \u001b[0;32mfor\u001b[0m \u001b[0mhook\u001b[0m \u001b[0;32min\u001b[0m \u001b[0mself\u001b[0m\u001b[0;34m.\u001b[0m\u001b[0m_forward_hooks\u001b[0m\u001b[0;34m.\u001b[0m\u001b[0mvalues\u001b[0m\u001b[0;34m(\u001b[0m\u001b[0;34m)\u001b[0m\u001b[0;34m:\u001b[0m\u001b[0;34m\u001b[0m\u001b[0m\n\u001b[1;32m    359\u001b[0m             \u001b[0mhook_result\u001b[0m \u001b[0;34m=\u001b[0m \u001b[0mhook\u001b[0m\u001b[0;34m(\u001b[0m\u001b[0mself\u001b[0m\u001b[0;34m,\u001b[0m \u001b[0minput\u001b[0m\u001b[0;34m,\u001b[0m \u001b[0mresult\u001b[0m\u001b[0;34m)\u001b[0m\u001b[0;34m\u001b[0m\u001b[0m\n",
      "\u001b[0;32m<ipython-input-507-c9ba0d2902f3>\u001b[0m in \u001b[0;36mforward\u001b[0;34m(self, x)\u001b[0m\n\u001b[1;32m    102\u001b[0m \u001b[0;34m\u001b[0m\u001b[0m\n\u001b[1;32m    103\u001b[0m         \u001b[0mout\u001b[0m \u001b[0;34m=\u001b[0m \u001b[0mself\u001b[0m\u001b[0;34m.\u001b[0m\u001b[0mlayer1\u001b[0m\u001b[0;34m(\u001b[0m\u001b[0mnorm_img_and_type_and_coarse\u001b[0m\u001b[0;34m)\u001b[0m\u001b[0;34m\u001b[0m\u001b[0m\n\u001b[0;32m--> 104\u001b[0;31m         \u001b[0mout\u001b[0m \u001b[0;34m=\u001b[0m \u001b[0mself\u001b[0m\u001b[0;34m.\u001b[0m\u001b[0mlayer2\u001b[0m\u001b[0;34m(\u001b[0m\u001b[0mout\u001b[0m\u001b[0;34m)\u001b[0m\u001b[0;34m\u001b[0m\u001b[0m\n\u001b[0m\u001b[1;32m    105\u001b[0m         \u001b[0mout\u001b[0m \u001b[0;34m=\u001b[0m \u001b[0mself\u001b[0m\u001b[0;34m.\u001b[0m\u001b[0mlayer3\u001b[0m\u001b[0;34m(\u001b[0m\u001b[0mout\u001b[0m\u001b[0;34m)\u001b[0m\u001b[0;34m\u001b[0m\u001b[0m\n\u001b[1;32m    106\u001b[0m         \u001b[0mout\u001b[0m \u001b[0;34m=\u001b[0m \u001b[0mself\u001b[0m\u001b[0;34m.\u001b[0m\u001b[0mlayer4\u001b[0m\u001b[0;34m(\u001b[0m\u001b[0mout\u001b[0m\u001b[0;34m)\u001b[0m\u001b[0;34m\u001b[0m\u001b[0m\n",
      "\u001b[0;32m/Users/stefan/anaconda/lib/python2.7/site-packages/torch/nn/modules/module.pyc\u001b[0m in \u001b[0;36m__call__\u001b[0;34m(self, *input, **kwargs)\u001b[0m\n\u001b[1;32m    355\u001b[0m             \u001b[0mresult\u001b[0m \u001b[0;34m=\u001b[0m \u001b[0mself\u001b[0m\u001b[0;34m.\u001b[0m\u001b[0m_slow_forward\u001b[0m\u001b[0;34m(\u001b[0m\u001b[0;34m*\u001b[0m\u001b[0minput\u001b[0m\u001b[0;34m,\u001b[0m \u001b[0;34m**\u001b[0m\u001b[0mkwargs\u001b[0m\u001b[0;34m)\u001b[0m\u001b[0;34m\u001b[0m\u001b[0m\n\u001b[1;32m    356\u001b[0m         \u001b[0;32melse\u001b[0m\u001b[0;34m:\u001b[0m\u001b[0;34m\u001b[0m\u001b[0m\n\u001b[0;32m--> 357\u001b[0;31m             \u001b[0mresult\u001b[0m \u001b[0;34m=\u001b[0m \u001b[0mself\u001b[0m\u001b[0;34m.\u001b[0m\u001b[0mforward\u001b[0m\u001b[0;34m(\u001b[0m\u001b[0;34m*\u001b[0m\u001b[0minput\u001b[0m\u001b[0;34m,\u001b[0m \u001b[0;34m**\u001b[0m\u001b[0mkwargs\u001b[0m\u001b[0;34m)\u001b[0m\u001b[0;34m\u001b[0m\u001b[0m\n\u001b[0m\u001b[1;32m    358\u001b[0m         \u001b[0;32mfor\u001b[0m \u001b[0mhook\u001b[0m \u001b[0;32min\u001b[0m \u001b[0mself\u001b[0m\u001b[0;34m.\u001b[0m\u001b[0m_forward_hooks\u001b[0m\u001b[0;34m.\u001b[0m\u001b[0mvalues\u001b[0m\u001b[0;34m(\u001b[0m\u001b[0;34m)\u001b[0m\u001b[0;34m:\u001b[0m\u001b[0;34m\u001b[0m\u001b[0m\n\u001b[1;32m    359\u001b[0m             \u001b[0mhook_result\u001b[0m \u001b[0;34m=\u001b[0m \u001b[0mhook\u001b[0m\u001b[0;34m(\u001b[0m\u001b[0mself\u001b[0m\u001b[0;34m,\u001b[0m \u001b[0minput\u001b[0m\u001b[0;34m,\u001b[0m \u001b[0mresult\u001b[0m\u001b[0;34m)\u001b[0m\u001b[0;34m\u001b[0m\u001b[0m\n",
      "\u001b[0;32m/Users/stefan/anaconda/lib/python2.7/site-packages/torch/nn/modules/container.pyc\u001b[0m in \u001b[0;36mforward\u001b[0;34m(self, input)\u001b[0m\n\u001b[1;32m     65\u001b[0m     \u001b[0;32mdef\u001b[0m \u001b[0mforward\u001b[0m\u001b[0;34m(\u001b[0m\u001b[0mself\u001b[0m\u001b[0;34m,\u001b[0m \u001b[0minput\u001b[0m\u001b[0;34m)\u001b[0m\u001b[0;34m:\u001b[0m\u001b[0;34m\u001b[0m\u001b[0m\n\u001b[1;32m     66\u001b[0m         \u001b[0;32mfor\u001b[0m \u001b[0mmodule\u001b[0m \u001b[0;32min\u001b[0m \u001b[0mself\u001b[0m\u001b[0;34m.\u001b[0m\u001b[0m_modules\u001b[0m\u001b[0;34m.\u001b[0m\u001b[0mvalues\u001b[0m\u001b[0;34m(\u001b[0m\u001b[0;34m)\u001b[0m\u001b[0;34m:\u001b[0m\u001b[0;34m\u001b[0m\u001b[0m\n\u001b[0;32m---> 67\u001b[0;31m             \u001b[0minput\u001b[0m \u001b[0;34m=\u001b[0m \u001b[0mmodule\u001b[0m\u001b[0;34m(\u001b[0m\u001b[0minput\u001b[0m\u001b[0;34m)\u001b[0m\u001b[0;34m\u001b[0m\u001b[0m\n\u001b[0m\u001b[1;32m     68\u001b[0m         \u001b[0;32mreturn\u001b[0m \u001b[0minput\u001b[0m\u001b[0;34m\u001b[0m\u001b[0m\n\u001b[1;32m     69\u001b[0m \u001b[0;34m\u001b[0m\u001b[0m\n",
      "\u001b[0;32m/Users/stefan/anaconda/lib/python2.7/site-packages/torch/nn/modules/module.pyc\u001b[0m in \u001b[0;36m__call__\u001b[0;34m(self, *input, **kwargs)\u001b[0m\n\u001b[1;32m    355\u001b[0m             \u001b[0mresult\u001b[0m \u001b[0;34m=\u001b[0m \u001b[0mself\u001b[0m\u001b[0;34m.\u001b[0m\u001b[0m_slow_forward\u001b[0m\u001b[0;34m(\u001b[0m\u001b[0;34m*\u001b[0m\u001b[0minput\u001b[0m\u001b[0;34m,\u001b[0m \u001b[0;34m**\u001b[0m\u001b[0mkwargs\u001b[0m\u001b[0;34m)\u001b[0m\u001b[0;34m\u001b[0m\u001b[0m\n\u001b[1;32m    356\u001b[0m         \u001b[0;32melse\u001b[0m\u001b[0;34m:\u001b[0m\u001b[0;34m\u001b[0m\u001b[0m\n\u001b[0;32m--> 357\u001b[0;31m             \u001b[0mresult\u001b[0m \u001b[0;34m=\u001b[0m \u001b[0mself\u001b[0m\u001b[0;34m.\u001b[0m\u001b[0mforward\u001b[0m\u001b[0;34m(\u001b[0m\u001b[0;34m*\u001b[0m\u001b[0minput\u001b[0m\u001b[0;34m,\u001b[0m \u001b[0;34m**\u001b[0m\u001b[0mkwargs\u001b[0m\u001b[0;34m)\u001b[0m\u001b[0;34m\u001b[0m\u001b[0m\n\u001b[0m\u001b[1;32m    358\u001b[0m         \u001b[0;32mfor\u001b[0m \u001b[0mhook\u001b[0m \u001b[0;32min\u001b[0m \u001b[0mself\u001b[0m\u001b[0;34m.\u001b[0m\u001b[0m_forward_hooks\u001b[0m\u001b[0;34m.\u001b[0m\u001b[0mvalues\u001b[0m\u001b[0;34m(\u001b[0m\u001b[0;34m)\u001b[0m\u001b[0;34m:\u001b[0m\u001b[0;34m\u001b[0m\u001b[0m\n\u001b[1;32m    359\u001b[0m             \u001b[0mhook_result\u001b[0m \u001b[0;34m=\u001b[0m \u001b[0mhook\u001b[0m\u001b[0;34m(\u001b[0m\u001b[0mself\u001b[0m\u001b[0;34m,\u001b[0m \u001b[0minput\u001b[0m\u001b[0;34m,\u001b[0m \u001b[0mresult\u001b[0m\u001b[0;34m)\u001b[0m\u001b[0;34m\u001b[0m\u001b[0m\n",
      "\u001b[0;32m/Users/stefan/anaconda/lib/python2.7/site-packages/torch/nn/modules/conv.pyc\u001b[0m in \u001b[0;36mforward\u001b[0;34m(self, input)\u001b[0m\n\u001b[1;32m    280\u001b[0m     \u001b[0;32mdef\u001b[0m \u001b[0mforward\u001b[0m\u001b[0;34m(\u001b[0m\u001b[0mself\u001b[0m\u001b[0;34m,\u001b[0m \u001b[0minput\u001b[0m\u001b[0;34m)\u001b[0m\u001b[0;34m:\u001b[0m\u001b[0;34m\u001b[0m\u001b[0m\n\u001b[1;32m    281\u001b[0m         return F.conv2d(input, self.weight, self.bias, self.stride,\n\u001b[0;32m--> 282\u001b[0;31m                         self.padding, self.dilation, self.groups)\n\u001b[0m\u001b[1;32m    283\u001b[0m \u001b[0;34m\u001b[0m\u001b[0m\n\u001b[1;32m    284\u001b[0m \u001b[0;34m\u001b[0m\u001b[0m\n",
      "\u001b[0;32m/Users/stefan/anaconda/lib/python2.7/site-packages/torch/nn/functional.pyc\u001b[0m in \u001b[0;36mconv2d\u001b[0;34m(input, weight, bias, stride, padding, dilation, groups)\u001b[0m\n\u001b[1;32m     88\u001b[0m                 \u001b[0m_pair\u001b[0m\u001b[0;34m(\u001b[0m\u001b[0;36m0\u001b[0m\u001b[0;34m)\u001b[0m\u001b[0;34m,\u001b[0m \u001b[0mgroups\u001b[0m\u001b[0;34m,\u001b[0m \u001b[0mtorch\u001b[0m\u001b[0;34m.\u001b[0m\u001b[0mbackends\u001b[0m\u001b[0;34m.\u001b[0m\u001b[0mcudnn\u001b[0m\u001b[0;34m.\u001b[0m\u001b[0mbenchmark\u001b[0m\u001b[0;34m,\u001b[0m\u001b[0;34m\u001b[0m\u001b[0m\n\u001b[1;32m     89\u001b[0m                 torch.backends.cudnn.deterministic, torch.backends.cudnn.enabled)\n\u001b[0;32m---> 90\u001b[0;31m     \u001b[0;32mreturn\u001b[0m \u001b[0mf\u001b[0m\u001b[0;34m(\u001b[0m\u001b[0minput\u001b[0m\u001b[0;34m,\u001b[0m \u001b[0mweight\u001b[0m\u001b[0;34m,\u001b[0m \u001b[0mbias\u001b[0m\u001b[0;34m)\u001b[0m\u001b[0;34m\u001b[0m\u001b[0m\n\u001b[0m\u001b[1;32m     91\u001b[0m \u001b[0;34m\u001b[0m\u001b[0m\n\u001b[1;32m     92\u001b[0m \u001b[0;34m\u001b[0m\u001b[0m\n",
      "\u001b[0;31mKeyboardInterrupt\u001b[0m: "
     ]
    }
   ],
   "source": [
    "from torch import optim\n",
    "\n",
    "print_every = 10\n",
    "save_every = 10\n",
    "eval_every = 10\n",
    "    \n",
    "epochs = 10\n",
    "\n",
    "if 1:\n",
    "    model = CNN()\n",
    "    it = 0\n",
    "    best_loss = 1e20\n",
    "    best_it = 0\n",
    "    stats = []\n",
    "\n",
    "\n",
    "criterion = nn.MSELoss()\n",
    "#criterion = nn.BCEWithLogitsLoss()\n",
    "#criterion = loss.DiceLoss()\n",
    "#optimizer = optim.SGD(model.parameters(), lr=0.001,momentum=0.9, weight_decay=1e-4)\n",
    "optimizer = optim.Adam(model.parameters(),lr=0.0001,weight_decay=1e-4)\n",
    "\n",
    "\n",
    "\n",
    "for epoch in range(epochs):\n",
    "    # adjust_learning_rate(optimizer, epoch)\n",
    "    it, best_loss, best_it = train(train_loader, valid_loader, model, criterion, optimizer, stats, epoch, eval_every, print_every, save_every)\n",
    "print it, best_loss, best_it\n"
   ]
  },
  {
   "cell_type": "markdown",
   "metadata": {},
   "source": [
    "# Visualize Predictions"
   ]
  },
  {
   "cell_type": "code",
   "execution_count": 596,
   "metadata": {},
   "outputs": [
    {
     "data": {
      "image/png": "[encoded data removed]",
      "text/plain": [
       "<matplotlib.figure.Figure at 0x1c639a6a50>"
      ]
     },
     "metadata": {},
     "output_type": "display_data"
    }
   ],
   "source": [
    "import torchvision.transforms as TT\n",
    "#monkeypatch(dset, 'transform', train_transform)\n",
    "#train_dset.transform=train_transform\n",
    "#valid_dset.transform=train_transform\n",
    "\n",
    "model.eval()\n",
    "\n",
    "for img,(_,mask) in iter(train_loader):\n",
    "    break\n",
    "\n",
    "\n",
    "pred = model(Variable(img,requires_grad=False))\n",
    "color_adjust = model.get_color_adjust(Variable(img,requires_grad=False))\n",
    "coarse = model.get_coarse(Variable(img,requires_grad=False))\n",
    "\n",
    "show_images([img[0],color_adjust.data[0],mask[0]])\n",
    "#show_images([img[0],coarse[0].data[0],coarse[1].data[0],coarse[2].data[0],mask[0]])\n",
    "#show_images([img[0],pred.data[0],mask[0]])\n",
    "\n",
    "#pred = ToPILImage()(pred.data[0])\n",
    "#ii = np.array(pred.data[0].squeeze())\n",
    "#plt.imshow(ii,cmap='gray')\n",
    "#ii[abs(ii-0.1425)<=0.01]=1\n",
    "#ii=mask[0]\n",
    "#print ii.min(), ii.max(), ii.mean(), stats.mode(ii.flatten())\n",
    "#show_images([img[0],pred.data[0],mask[0]])\n",
    "#print criterion(pred,Variable(mask))\n",
    "#print ((pred.data[0]-mask[0])* (pred.data[0]-mask[0])).sum()/pred.data[0].numel()\n",
    "#print ((mask[0]-mask[0].mean())* (mask[0]-mask[0].mean())).sum()/mask[0].numel()\n",
    "#print pred.data[0].size()\n",
    "#plot_img_and_hist(pred.data[0])\n",
    "#plot_img_and_hist([img,mask])\n",
    "#mask.mean()\n",
    "#mask.shape\n",
    "#show_img([img,mask])\n",
    "#train_dset.transform\n",
    "#train_dset.transform=transforms.ToTensor()\n",
    "#train_dset.transform\n",
    "#TT.ToPILImage()(img)\n",
    "#show_images(pred.data[0])\n",
    "#plt.imshow(ToPILImage()(pred.data[0]))\n",
    "#plt.imshow(pred.data[0].numpy().squeeze())\n",
    "#plt.imshow(img_as_float(pred.data[0].numpy().squeeze()))\n",
    "\n",
    "#print isinstance(pred.data[0], torch.Tensor)\n",
    "\n",
    "\n",
    "#print baseline(train_loader, valid_loader, criterion, 1000)\n",
    "#def is_inverted(img,invert_thresh_pd=10.0):\n",
    "#    img_grey = img_as_ubyte(rgb2grey(img))\n",
    "#    img_th = cv2.threshold(img_grey,0,255,cv2.THRESH_OTSU)[1]\n",
    "#    return np.sum(img_th==255)>((invert_thresh_pd/10.0)*np.sum(img_th==0))\n",
    "\n",
    "#print is_inverted(train_dset.data_df['images'].iloc[0])\n",
    "#x = train_dset.data_df['images'].map(is_inverted)\n",
    "#print np.where(train_dset.data_df['inv'])\n",
    "#ii = train_dset.data_df['images'].iloc[71]\n",
    "#plt.imshow(rgb2grey(ii),cmap='binary')\n",
    "#plt.imshow(ii[:10,:10]-5)\n",
    "#ii[:10,:10]\n",
    "\n",
    "#show_images(rgb2grey(ii))\n",
    "\n",
    "#plot_img_and_hist(rgb2grey(ii))\n",
    "#train_dset.data_df['id'].iloc[71]\n",
    "#print ii.dtype, ii.mean(), ii.max(), ii.min(), stats.mode(ii.flatten())\n",
    "#plt.imshow(ii)"
   ]
  },
  {
   "cell_type": "code",
   "execution_count": 582,
   "metadata": {},
   "outputs": [
    {
     "data": {
      "image/png": "[encoded data removed]",
      "text/plain": [
       "<matplotlib.figure.Figure at 0x1c56d805d0>"
      ]
     },
     "metadata": {},
     "output_type": "display_data"
    }
   ],
   "source": [
    "# pixel correlation plot\n",
    "x=pred.data[0].numpy().flatten()\n",
    "y=mask[0].numpy().flatten()\n",
    "plt.scatter(y,x)\n",
    "plt.show()"
   ]
  },
  {
   "cell_type": "code",
   "execution_count": null,
   "metadata": {
    "collapsed": true
   },
   "outputs": [],
   "source": [
    "epoch,stats=load_model(model, optimizer)\n",
    "print epoch, stats"
   ]
  },
  {
   "cell_type": "markdown",
   "metadata": {},
   "source": [
    "# Calculate IOU"
   ]
  },
  {
   "cell_type": "code",
   "execution_count": 613,
   "metadata": {},
   "outputs": [
    {
     "name": "stdout",
     "output_type": "stream",
     "text": [
      "0.158894834172 0.114834653566\n"
     ]
    }
   ],
   "source": [
    "#loss=reload(loss)\n",
    "import scipy\n",
    "from tqdm import tqdm\n",
    "#post_process=reload(post_process)\n",
    "import loss\n",
    "import post_process\n",
    "from post_process import parametric_pipeline\n",
    "from loss import iou_metric, diagnose_errors, show_compare_gt\n",
    "#model.eval()\n",
    "#pred = [(model(Variable(img,requires_grad=False)).data.numpy().squeeze(), mask.numpy().squeeze()) for img, (mask,mask_seg) in tqdm(iter(train_loader))]\n",
    "#pred = [(ToPILImage()(img.squeeze()),mask.numpy().squeeze()) for img, (mask,mask_seg) in iter(valid_loader)]\n",
    "#img_th = [(parametric_pipeline(rgb2grey(np.asarray(img)),circle_size=4), mask) for img, mask in pred]\n",
    "#ious = [iou_metric(i,m) for (i,m) in img_th]\n",
    "print np.mean(ious),np.median(ious)\n",
    "#diagnose_errors(img_th[0][0],img_th[0][1])\n",
    "#show_compare_gt(pred[2][0],pred[2][1],circle_size=10)\n",
    "#print pred[0][0].dtype\n",
    "#pred[0]"
   ]
  },
  {
   "cell_type": "code",
   "execution_count": null,
   "metadata": {
    "collapsed": true
   },
   "outputs": [],
   "source": [
    "dice 0.239599661927 0.221256282842\n",
    "jaccard 0.23728979728 0.189091591261\n",
    "bce 0.279290088953 0.217723006553\n",
    "mse 0.304971608193 0.309523258999\n",
    "new arch\n",
    "mse 0.158894834172 0.114834653566\n",
    "bce mean = 0.17207, med = 0.12120\n",
    "dice mean = 0.24912, med = 0.19799\n",
    "img-weighted bce 0.22999, med = 0.18525"
   ]
  },
  {
   "cell_type": "code",
   "execution_count": 82,
   "metadata": {},
   "outputs": [
    {
     "name": "stdout",
     "output_type": "stream",
     "text": [
      "before (256, 256, 3) (256, 256, 1) (256, 256, 1)\n",
      "k 1\n",
      "after (256, 256, 3) (256, 256, 1) (256, 256, 1)\n",
      "torch.Size([1, 256, 256]) torch.Size([1, 256, 256])\n"
     ]
    }
   ],
   "source": [
    "###### dset.data_df['masks_unlabeled']=dset.data_df['masks_unlabled']\n",
    "\n",
    "#for i,(img,mask) in enumerate(valid_loader):\n",
    "#    break\n",
    "\n",
    "#print mask[1].dtype\n",
    "#dset.data_df['masks'].iloc[0].max()\n",
    "#ii=np.array(((1,2,3),(4,5,5)),dtype=np.uint8)\n",
    "#print torch.from_numpy(ii)\n",
    "img=dset.data_df['images'].iloc[0]\n",
    "m1=dset.data_df['masks'].iloc[0]\n",
    "m2=dset.data_df['masks_seg'].iloc[0]\n",
    "ii,mm1,mm2=train_transform(img,m1,m2)\n",
    "print mm1.shape,mm2.shape"
   ]
  },
  {
   "cell_type": "code",
   "execution_count": 28,
   "metadata": {},
   "outputs": [
    {
     "name": "stdout",
     "output_type": "stream",
     "text": [
      "(2, 3, 1)\n"
     ]
    }
   ],
   "source": [
    "ii=np.zeros((2,3,1))\n",
    "print np.flip(ii,2).shape"
   ]
  },
  {
   "cell_type": "code",
   "execution_count": 43,
   "metadata": {},
   "outputs": [
    {
     "name": "stdout",
     "output_type": "stream",
     "text": [
      "2\n"
     ]
    }
   ],
   "source": [
    "np.rot90"
   ]
  },
  {
   "cell_type": "code",
   "execution_count": 603,
   "metadata": {},
   "outputs": [
    {
     "name": "stdout",
     "output_type": "stream",
     "text": [
      "[(10, 0.1508605394512415, 0.14138794186360695), (20, 0.06947005353868008, 0.13381062616484568), (30, 0.060165710374712945, 0.12511444675243077), (40, 0.03398673869669437, 0.11621393918689779), (50, 0.0153909264318645, 0.10906757881371852), (60, 0.0230019719650348, 0.10420079410130925), (70, 0.015239033102989196, 0.10103696699747268), (80, 0.016849563806317747, 0.10080118066466906), (90, 0.017663979964951674, 0.10382523825939964), (100, 0.015023434832692147, 0.10746573925237446), (110, 0.012301610748876224, 0.10788909625262022)]\n"
     ]
    }
   ],
   "source": [
    "print stats"
   ]
  },
  {
   "cell_type": "code",
   "execution_count": 612,
   "metadata": {},
   "outputs": [
    {
     "data": {
      "image/png": "[encoded data removed]",
      "text/plain": [
       "<matplotlib.figure.Figure at 0x1c2c38e3d0>"
      ]
     },
     "metadata": {},
     "output_type": "display_data"
    }
   ],
   "source": [
    "import matplotlib.pyplot as plt\n",
    "import operator\n",
    "from operator import itemgetter\n",
    "\n",
    "xs = map(itemgetter(0), stats)\n",
    "ys = map(itemgetter(1), stats)\n",
    "zs = map(itemgetter(2), stats)\n",
    "\n",
    "\n",
    "fig, ax = plt.subplots( nrows=1, ncols=1 )\n",
    "ax.plot(xs,ys,'g')\n",
    "ax.plot(xs,zs,'r')\n",
    "plt.show()\n",
    "#fig.savefig('path/to/save/image/to.png')   # save the figure to file\n",
    "#plt.close(fig)    # close the figure\n",
    "#print xs"
   ]
  },
  {
   "cell_type": "code",
   "execution_count": 622,
   "metadata": {},
   "outputs": [
    {
     "name": "stderr",
     "output_type": "stream",
     "text": [
      "100%|██████████| 4/4 [00:00<00:00, 11358.98it/s]\n"
     ]
    },
    {
     "data": {
      "text/plain": [
       "[2, 3, 4, 5]"
      ]
     },
     "execution_count": 622,
     "metadata": {},
     "output_type": "execute_result"
    }
   ],
   "source": [
    "x=pd.DataFrame({'x':[1,2,3,4],'y':[1,2,3,4]})\n",
    "x['x'].map(lambda x: x + 1)\n",
    "#x['x'].map(lambda x: x + 1)\n",
    "[x+1 for x in tqdm(x['x'])]"
   ]
  },
  {
   "cell_type": "code",
   "execution_count": 616,
   "metadata": {},
   "outputs": [
    {
     "data": {
      "text/html": [
       "<div>\n",
       "<style>\n",
       "    .dataframe thead tr:only-child th {\n",
       "        text-align: right;\n",
       "    }\n",
       "\n",
       "    .dataframe thead th {\n",
       "        text-align: left;\n",
       "    }\n",
       "\n",
       "    .dataframe tbody tr th {\n",
       "        vertical-align: top;\n",
       "    }\n",
       "</style>\n",
       "<table border=\"1\" class=\"dataframe\">\n",
       "  <thead>\n",
       "    <tr style=\"text-align: right;\">\n",
       "      <th></th>\n",
       "      <th>x</th>\n",
       "      <th>y</th>\n",
       "    </tr>\n",
       "  </thead>\n",
       "  <tbody>\n",
       "    <tr>\n",
       "      <th>0</th>\n",
       "      <td>1</td>\n",
       "      <td>1</td>\n",
       "    </tr>\n",
       "    <tr>\n",
       "      <th>1</th>\n",
       "      <td>2</td>\n",
       "      <td>2</td>\n",
       "    </tr>\n",
       "    <tr>\n",
       "      <th>2</th>\n",
       "      <td>3</td>\n",
       "      <td>3</td>\n",
       "    </tr>\n",
       "    <tr>\n",
       "      <th>3</th>\n",
       "      <td>4</td>\n",
       "      <td>4</td>\n",
       "    </tr>\n",
       "  </tbody>\n",
       "</table>\n",
       "</div>"
      ],
      "text/plain": [
       "   x  y\n",
       "0  1  1\n",
       "1  2  2\n",
       "2  3  3\n",
       "3  4  4"
      ]
     },
     "execution_count": 616,
     "metadata": {},
     "output_type": "execute_result"
    }
   ],
   "source": [
    "x"
   ]
  },
  {
   "cell_type": "code",
   "execution_count": null,
   "metadata": {
    "collapsed": true
   },
   "outputs": [],
   "source": []
  }
 ],
 "metadata": {
  "kernelspec": {
   "display_name": "Python 2",
   "language": "python",
   "name": "python2"
  },
  "language_info": {
   "codemirror_mode": {
    "name": "ipython",
    "version": 2
   },
   "file_extension": ".py",
   "mimetype": "text/x-python",
   "name": "python",
   "nbconvert_exporter": "python",
   "pygments_lexer": "ipython2",
   "version": "2.7.13"
  }
 },
 "nbformat": 4,
 "nbformat_minor": 2
}
