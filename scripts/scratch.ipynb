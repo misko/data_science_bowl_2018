{
 "cells": [
  {
   "cell_type": "code",
   "execution_count": 1,
   "metadata": {},
   "outputs": [],
   "source": [
    "from os.path import join\n",
    "import cv2\n",
    "import numpy as np # linear algebra\n",
    "import pandas as pd # data processing, CSV file I/O (e.g. pd.read_csv)\n",
    "from glob import glob\n",
    "import os\n",
    "from skimage.io import imread\n",
    "import matplotlib.pyplot as plt\n",
    "import seaborn as sns\n",
    "import scipy\n",
    "from scipy import ndimage\n",
    "from skimage.morphology import square, dilation\n",
    "%matplotlib inline\n",
    "\n",
    "import utils\n",
    "from utils import read_img_join_masks, add_contour, show_with_contour, iou_metric, show_img, diagnose_errors\n",
    "\n",
    "img_id = 'ed5be4b63e9506ad64660dd92a098ffcc0325195298c13c815a73773f1efc279'\n",
    "img, mask = read_img_join_masks(img_id)\n",
    "#mask2 = plt.contour(mask.astype(float), alpha=0.5)\n",
    "#print mask2S\n",
    "#print np.amax(mask)\n",
    "#show_with_contour(img,mask)\n",
    "#\n"
   ]
  },
  {
   "cell_type": "code",
   "execution_count": null,
   "metadata": {
    "collapsed": true
   },
   "outputs": [],
   "source": []
  },
  {
   "cell_type": "code",
   "execution_count": 6,
   "metadata": {
    "scrolled": true
   },
   "outputs": [
    {
     "name": "stdout",
     "output_type": "stream",
     "text": [
      "objects 12 43\n",
      "diagnose\n",
      "average precision: 0.182; ignoring mislocations: 0.182; oversegmentation: 0.152; undersegmentation: 0.000 segments tend to be too small: pixel precision: 1.000, pixel recall: 0.316\n"
     ]
    },
    {
     "data": {
      "text/plain": [
       "(0.18181818181818182,\n",
       " 0.18181818181818182,\n",
       " 1.0,\n",
       " 0.31551416449636527,\n",
       " 0.15151515151515152,\n",
       " 0.0)"
      ]
     },
     "execution_count": 6,
     "metadata": {},
     "output_type": "execute_result"
    }
   ],
   "source": [
    "\n",
    "mask2 = np.copy(mask)\n",
    "#mask2 = scipy.ndimage.interpolation.shift(mask, 3)\n",
    "#mask2 = dilation(mask2, square(3))\n",
    "mask2 = ndimage.binary_dilation(mask2, structure=np.ones((10,10))).astype(mask2.dtype)\n",
    "mask2, nf = scipy.ndimage.measurements.label(mask2)\n",
    "print 'objects', nf, len(np.unique(mask))\n",
    "#print 'iou', iou_metric(mask2, mask)\n",
    "print 'diagnose'\n",
    "diagnose_errors(mask2, mask,threshold=0.1)\n"
   ]
  },
  {
   "cell_type": "code",
   "execution_count": 3,
   "metadata": {},
   "outputs": [],
   "source": [
    "#show_with_contour(mask2,mask)"
   ]
  },
  {
   "cell_type": "code",
   "execution_count": 4,
   "metadata": {},
   "outputs": [],
   "source": [
    "#a=np.array([[1,1,1,1],[1,1,1,0],[1,1,1,0],[1,1,1,0]])\n",
    "#b=np.array([[1,0,2,0],[0,0,0,0],[0,0,0,0],[0,0,0,0]])\n",
    "#diagnose_errors(b, a)"
   ]
  },
  {
   "cell_type": "code",
   "execution_count": null,
   "metadata": {
    "collapsed": true
   },
   "outputs": [],
   "source": []
  }
 ],
 "metadata": {
  "kernelspec": {
   "display_name": "Python 2",
   "language": "python",
   "name": "python2"
  },
  "language_info": {
   "codemirror_mode": {
    "name": "ipython",
    "version": 2
   },
   "file_extension": ".py",
   "mimetype": "text/x-python",
   "name": "python",
   "nbconvert_exporter": "python",
   "pygments_lexer": "ipython2",
   "version": "2.7.13"
  }
 },
 "nbformat": 4,
 "nbformat_minor": 2
}
