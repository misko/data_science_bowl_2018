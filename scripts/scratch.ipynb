{
 "cells": [
  {
   "cell_type": "code",
   "execution_count": 1,
   "metadata": {},
   "outputs": [],
   "source": [
    "from os.path import join\n",
    "import cv2\n",
    "import numpy as np # linear algebra\n",
    "import pandas as pd # data processing, CSV file I/O (e.g. pd.read_csv)\n",
    "from glob import glob\n",
    "import os\n",
    "from skimage.io import imread\n",
    "import matplotlib.pyplot as plt\n",
    "import seaborn as sns\n",
    "import scipy\n",
    "from scipy import ndimage\n",
    "from skimage.morphology import square, dilation\n",
    "%matplotlib inline\n",
    "\n",
    "import utils\n",
    "from utils import read_img_join_masks, add_contour, show_with_contour, iou_metric, show_img, diagnose_errors\n",
    "\n",
    "img_id = 'ed5be4b63e9506ad64660dd92a098ffcc0325195298c13c815a73773f1efc279'\n",
    "img, mask = read_img_join_masks(img_id)\n",
    "#mask2 = plt.contour(mask.astype(float), alpha=0.5)\n",
    "#print mask2S\n",
    "#print np.amax(mask)\n",
    "#show_with_contour(img,mask)\n",
    "#\n"
   ]
  },
  {
   "cell_type": "code",
   "execution_count": null,
   "metadata": {
    "collapsed": true
   },
   "outputs": [],
   "source": []
  },
  {
   "cell_type": "code",
   "execution_count": 2,
   "metadata": {
    "scrolled": true
   },
   "outputs": [
    {
     "name": "stdout",
     "output_type": "stream",
     "text": [
      "objects 12 43\n",
      "diagnose\n"
     ]
    },
    {
     "ename": "NameError",
     "evalue": "global name 'ploc' is not defined",
     "output_type": "error",
     "traceback": [
      "\u001b[0;31m---------------------------------------------------------------------------\u001b[0m",
      "\u001b[0;31mNameError\u001b[0m                                 Traceback (most recent call last)",
      "\u001b[0;32m<ipython-input-2-003acefa0b56>\u001b[0m in \u001b[0;36m<module>\u001b[0;34m()\u001b[0m\n\u001b[1;32m      8\u001b[0m \u001b[0;31m#print 'iou', iou_metric(mask2, mask)\u001b[0m\u001b[0;34m\u001b[0m\u001b[0;34m\u001b[0m\u001b[0m\n\u001b[1;32m      9\u001b[0m \u001b[0;32mprint\u001b[0m \u001b[0;34m'diagnose'\u001b[0m\u001b[0;34m\u001b[0m\u001b[0m\n\u001b[0;32m---> 10\u001b[0;31m \u001b[0mdiagnose_errors\u001b[0m\u001b[0;34m(\u001b[0m\u001b[0mmask2\u001b[0m\u001b[0;34m,\u001b[0m \u001b[0mmask\u001b[0m\u001b[0;34m,\u001b[0m\u001b[0mthreshold\u001b[0m\u001b[0;34m=\u001b[0m\u001b[0;36m0.1\u001b[0m\u001b[0;34m)\u001b[0m\u001b[0;34m\u001b[0m\u001b[0m\n\u001b[0m",
      "\u001b[0;32m/Users/stefan/Documents/nucleus/data_science_bowl_2018/scripts/utils.py\u001b[0m in \u001b[0;36mdiagnose_errors\u001b[0;34m(labels, y_pred, threshold, print_message)\u001b[0m\n\u001b[1;32m    222\u001b[0m \u001b[0;34m\u001b[0m\u001b[0m\n\u001b[1;32m    223\u001b[0m     \u001b[0;32mif\u001b[0m \u001b[0mprint_message\u001b[0m\u001b[0;34m:\u001b[0m\u001b[0;34m\u001b[0m\u001b[0m\n\u001b[0;32m--> 224\u001b[0;31m         \u001b[0mprint_diag\u001b[0m\u001b[0;34m(\u001b[0m\u001b[0mp\u001b[0m\u001b[0;34m,\u001b[0m \u001b[0mploc\u001b[0m\u001b[0;34m,\u001b[0m \u001b[0mmean_prec\u001b[0m\u001b[0;34m,\u001b[0m \u001b[0mmean_rec\u001b[0m\u001b[0;34m,\u001b[0m \u001b[0moseg\u001b[0m\u001b[0;34m,\u001b[0m \u001b[0museg\u001b[0m\u001b[0;34m)\u001b[0m\u001b[0;34m\u001b[0m\u001b[0m\n\u001b[0m\u001b[1;32m    225\u001b[0m     \u001b[0;32mreturn\u001b[0m \u001b[0mp\u001b[0m\u001b[0;34m,\u001b[0m \u001b[0mp_loc\u001b[0m\u001b[0;34m,\u001b[0m \u001b[0mmean_prec\u001b[0m\u001b[0;34m,\u001b[0m \u001b[0mmean_rec\u001b[0m\u001b[0;34m,\u001b[0m \u001b[0moseg\u001b[0m\u001b[0;34m,\u001b[0m \u001b[0museg\u001b[0m\u001b[0;34m\u001b[0m\u001b[0m\n\u001b[1;32m    226\u001b[0m \u001b[0;34m\u001b[0m\u001b[0m\n",
      "\u001b[0;31mNameError\u001b[0m: global name 'ploc' is not defined"
     ]
    }
   ],
   "source": [
    "\n",
    "mask2 = np.copy(mask)\n",
    "#mask2 = scipy.ndimage.interpolation.shift(mask, 3)\n",
    "#mask2 = dilation(mask2, square(3))\n",
    "mask2 = ndimage.binary_dilation(mask2, structure=np.ones((10,10))).astype(mask2.dtype)\n",
    "mask2, nf = scipy.ndimage.measurements.label(mask2)\n",
    "print 'objects', nf, len(np.unique(mask))\n",
    "#print 'iou', iou_metric(mask2, mask)\n",
    "print 'diagnose'\n",
    "diagnose_errors(mask2, mask,threshold=0.1)\n"
   ]
  },
  {
   "cell_type": "code",
   "execution_count": 3,
   "metadata": {},
   "outputs": [],
   "source": [
    "#show_with_contour(mask2,mask)"
   ]
  },
  {
   "cell_type": "code",
   "execution_count": 4,
   "metadata": {},
   "outputs": [],
   "source": [
    "#a=np.array([[1,1,1,1],[1,1,1,0],[1,1,1,0],[1,1,1,0]])\n",
    "#b=np.array([[1,0,2,0],[0,0,0,0],[0,0,0,0],[0,0,0,0]])\n",
    "#diagnose_errors(b, a)"
   ]
  },
  {
   "cell_type": "code",
   "execution_count": null,
   "metadata": {
    "collapsed": true
   },
   "outputs": [],
   "source": []
  }
 ],
 "metadata": {
  "kernelspec": {
   "display_name": "Python 2",
   "language": "python",
   "name": "python2"
  },
  "language_info": {
   "codemirror_mode": {
    "name": "ipython",
    "version": 2
   },
   "file_extension": ".py",
   "mimetype": "text/x-python",
   "name": "python",
   "nbconvert_exporter": "python",
   "pygments_lexer": "ipython2",
   "version": "2.7.14"
  }
 },
 "nbformat": 4,
 "nbformat_minor": 2
}
