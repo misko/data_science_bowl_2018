{
 "cells": [
  {
   "cell_type": "code",
   "execution_count": 1,
   "metadata": {
    "collapsed": true
   },
   "outputs": [],
   "source": [
    "from os.path import join\n",
    "import cv2\n",
    "import numpy as np # linear algebra\n",
    "import pandas as pd # data processing, CSV file I/O (e.g. pd.read_csv)\n",
    "from glob import glob\n",
    "import os\n",
    "from skimage.io import imread\n",
    "import matplotlib.pyplot as plt\n",
    "import seaborn as sns\n",
    "import scipy\n",
    "from scipy import ndimage\n",
    "from skimage.morphology import square, dilation\n",
    "%matplotlib inline\n",
    "\n",
    "import utils\n",
    "from utils import read_img_join_masks, add_contour, show_with_contour, iou_metric, show_img, diagnose_errors\n",
    "\n",
    "img_id = '091944f1d2611c916b98c020bd066667e33f4639159b2a92407fe5a40788856d'\n",
    "img, mask = read_img_join_masks(img_id)\n",
    "\n"
   ]
  },
  {
   "cell_type": "code",
   "execution_count": null,
   "metadata": {
    "collapsed": true
   },
   "outputs": [],
   "source": []
  },
  {
   "cell_type": "code",
   "execution_count": 2,
   "metadata": {
    "scrolled": true
   },
   "outputs": [
    {
     "name": "stdout",
     "output_type": "stream",
     "text": [
      "objects 12 43\n",
      "diagnose\n"
     ]
    },
    {
     "ename": "NameError",
     "evalue": "global name 'ploc' is not defined",
     "output_type": "error",
     "traceback": [
      "\u001b[0;31m---------------------------------------------------------------------------\u001b[0m",
      "\u001b[0;31mNameError\u001b[0m                                 Traceback (most recent call last)",
      "\u001b[0;32m<ipython-input-2-003acefa0b56>\u001b[0m in \u001b[0;36m<module>\u001b[0;34m()\u001b[0m\n\u001b[1;32m      8\u001b[0m \u001b[0;31m#print 'iou', iou_metric(mask2, mask)\u001b[0m\u001b[0;34m\u001b[0m\u001b[0;34m\u001b[0m\u001b[0m\n\u001b[1;32m      9\u001b[0m \u001b[0;32mprint\u001b[0m \u001b[0;34m'diagnose'\u001b[0m\u001b[0;34m\u001b[0m\u001b[0m\n\u001b[0;32m---> 10\u001b[0;31m \u001b[0mdiagnose_errors\u001b[0m\u001b[0;34m(\u001b[0m\u001b[0mmask2\u001b[0m\u001b[0;34m,\u001b[0m \u001b[0mmask\u001b[0m\u001b[0;34m,\u001b[0m\u001b[0mthreshold\u001b[0m\u001b[0;34m=\u001b[0m\u001b[0;36m0.1\u001b[0m\u001b[0;34m)\u001b[0m\u001b[0;34m\u001b[0m\u001b[0m\n\u001b[0m",
      "\u001b[0;32m/Users/stefan/Documents/nucleus/data_science_bowl_2018/scripts/utils.py\u001b[0m in \u001b[0;36mdiagnose_errors\u001b[0;34m(labels, y_pred, threshold, print_message)\u001b[0m\n\u001b[1;32m    222\u001b[0m \u001b[0;34m\u001b[0m\u001b[0m\n\u001b[1;32m    223\u001b[0m     \u001b[0;32mif\u001b[0m \u001b[0mprint_message\u001b[0m\u001b[0;34m:\u001b[0m\u001b[0;34m\u001b[0m\u001b[0m\n\u001b[0;32m--> 224\u001b[0;31m         \u001b[0mprint_diag\u001b[0m\u001b[0;34m(\u001b[0m\u001b[0mp\u001b[0m\u001b[0;34m,\u001b[0m \u001b[0mploc\u001b[0m\u001b[0;34m,\u001b[0m \u001b[0mmean_prec\u001b[0m\u001b[0;34m,\u001b[0m \u001b[0mmean_rec\u001b[0m\u001b[0;34m,\u001b[0m \u001b[0moseg\u001b[0m\u001b[0;34m,\u001b[0m \u001b[0museg\u001b[0m\u001b[0;34m)\u001b[0m\u001b[0;34m\u001b[0m\u001b[0m\n\u001b[0m\u001b[1;32m    225\u001b[0m     \u001b[0;32mreturn\u001b[0m \u001b[0mp\u001b[0m\u001b[0;34m,\u001b[0m \u001b[0mp_loc\u001b[0m\u001b[0;34m,\u001b[0m \u001b[0mmean_prec\u001b[0m\u001b[0;34m,\u001b[0m \u001b[0mmean_rec\u001b[0m\u001b[0;34m,\u001b[0m \u001b[0moseg\u001b[0m\u001b[0;34m,\u001b[0m \u001b[0museg\u001b[0m\u001b[0;34m\u001b[0m\u001b[0m\n\u001b[1;32m    226\u001b[0m \u001b[0;34m\u001b[0m\u001b[0m\n",
      "\u001b[0;31mNameError\u001b[0m: global name 'ploc' is not defined"
     ]
    }
   ],
   "source": [
    "\n",
    "mask2 = np.copy(mask)\n",
    "#mask2 = scipy.ndimage.interpolation.shift(mask, 3)\n",
    "#mask2 = dilation(mask2, square(3))\n",
    "mask2 = ndimage.binary_dilation(mask2, structure=np.ones((10,10))).astype(mask2.dtype)\n",
    "mask2, nf = scipy.ndimage.measurements.label(mask2)\n",
    "print 'objects', nf, len(np.unique(mask))\n",
    "#print 'iou', iou_metric(mask2, mask)\n",
    "print 'diagnose'\n",
    "diagnose_errors(mask2, mask,threshold=0.1)\n"
   ]
  },
  {
   "cell_type": "code",
   "execution_count": 3,
   "metadata": {
    "collapsed": true
   },
   "outputs": [],
   "source": [
    "#show_with_contour(mask2,mask)"
   ]
  },
  {
   "cell_type": "code",
   "execution_count": 4,
   "metadata": {
    "collapsed": true
   },
   "outputs": [],
   "source": [
    "#a=np.array([[1,1,1,1],[1,1,1,0],[1,1,1,0],[1,1,1,0]])\n",
    "#b=np.array([[1,0,2,0],[0,0,0,0],[0,0,0,0],[0,0,0,0]])\n",
    "#diagnose_errors(b, a)"
   ]
  },
  {
   "cell_type": "code",
   "execution_count": 21,
   "metadata": {},
   "outputs": [
    {
     "data": {
      "image/png": "[encoded data removed]",
      "text/plain": [
       "<matplotlib.figure.Figure at 0x1c19875a90>"
      ]
     },
     "metadata": {},
     "output_type": "display_data"
    }
   ],
   "source": [
    "# Very strange, matplotlib seems to invert colors!!!\n",
    "import matplotlib\n",
    "import matplotlib.pyplot as plt\n",
    "import skimage\n",
    "from skimage.color import rgb2gray\n",
    "from skimage import data\n",
    "import numpy as np\n",
    "#img = data.astronaut()\n",
    "#img_gray = rgb2gray(img)\n",
    "#fig, ax = plt.subplots(1,2, figsize=(16, 16))\n",
    "#ax[0].imshow(img,cmap='gray')\n",
    "#ax[1].imshow(img_gray,cmap='gray')\n",
    "#plt.show()\n",
    "\n",
    "\n",
    "img= np.zeros((10,10,3))\n",
    "img[5,5,0]=1\n",
    "img[5,5,1]=1\n",
    "img[5,5,2]=1\n",
    "img_gray = rgb2gray(img)\n",
    "fig, ax = plt.subplots(1,2, figsize=(16, 16))\n",
    "ax[0].imshow(img)\n",
    "ax[1].imshow(img_gray,cmap='gray')\n",
    "plt.show()\n",
    "#show_images(ii)\n",
    "#iii=np.repeat(np.expand_dims(rgb2grey(ii).astype(np.uint8),2),3,2)\n",
    "#show_images([ii,rgb2grey(ii),iii])\n",
    "#print iii\n",
    "\n"
   ]
  },
  {
   "cell_type": "code",
   "execution_count": 31,
   "metadata": {},
   "outputs": [
    {
     "data": {
      "text/plain": [
       "\n",
       "(0 ,.,.) = \n",
       "  1\n",
       "\n",
       "(1 ,.,.) = \n",
       "  2\n",
       "\n",
       "(2 ,.,.) = \n",
       "  3\n",
       "[torch.FloatTensor of size 3x1x1]"
      ]
     },
     "execution_count": 31,
     "metadata": {},
     "output_type": "execute_result"
    }
   ],
   "source": [
    "import torch\n",
    "x = torch.Tensor([[1], [2], [3]])\n",
    "x.unsqueeze(1)"
   ]
  },
  {
   "cell_type": "code",
   "execution_count": 25,
   "metadata": {},
   "outputs": [
    {
     "name": "stdout",
     "output_type": "stream",
     "text": [
      "\n",
      " 1\n",
      " 2\n",
      " 3\n",
      "[torch.FloatTensor of size 3x1]\n",
      "\n"
     ]
    }
   ],
   "source": [
    "print x"
   ]
  },
  {
   "cell_type": "code",
   "execution_count": null,
   "metadata": {
    "collapsed": true
   },
   "outputs": [],
   "source": []
  }
 ],
 "metadata": {
  "kernelspec": {
   "display_name": "Python 2",
   "language": "python",
   "name": "python2"
  },
  "language_info": {
   "codemirror_mode": {
    "name": "ipython",
    "version": 2
   },
   "file_extension": ".py",
   "mimetype": "text/x-python",
   "name": "python",
   "nbconvert_exporter": "python",
   "pygments_lexer": "ipython2",
   "version": "2.7.13"
  }
 },
 "nbformat": 4,
 "nbformat_minor": 2
}
